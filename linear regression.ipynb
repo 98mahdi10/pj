{
 "cells": [
  {
   "cell_type": "code",
   "execution_count": 3,
   "id": "f3a7497a",
   "metadata": {},
   "outputs": [
    {
     "ename": "SyntaxError",
     "evalue": "invalid syntax (3299719460.py, line 6)",
     "output_type": "error",
     "traceback": [
      "\u001b[1;36m  Cell \u001b[1;32mIn[3], line 6\u001b[1;36m\u001b[0m\n\u001b[1;33m    [   0.30349955 -237.63931533  510.53060544  327.73698041 -814.13170937\u001b[0m\n\u001b[1;37m                                  ^\u001b[0m\n\u001b[1;31mSyntaxError\u001b[0m\u001b[1;31m:\u001b[0m invalid syntax\n"
     ]
    }
   ],
   "source": [
    " from sklearn import linear_model\n",
    " regr = linear_model.LinearRegression()\n",
    " regr.fit(diabetes_X_train, diabetes_y_train)\n",
    "LinearRegression()\n",
    " print(regr.coef_) \n",
    "[   0.30349955 -237.63931533  510.53060544  327.73698041 -814.13170937\n",
    "  492.81458798  102.84845219  184.60648906  743.51961675   76.09517222]\n",
    "\n",
    " np.mean((regr.predict(diabetes_X_test) - diabetes_y_test)**2)\n",
    "2004.5\n",
    "0.585"
   ]
  },
  {
   "cell_type": "code",
   "execution_count": 2,
   "id": "56ca1411",
   "metadata": {},
   "outputs": [
    {
     "ename": "IndentationError",
     "evalue": "unexpected indent (1081141864.py, line 2)",
     "output_type": "error",
     "traceback": [
      "\u001b[1;36m  Cell \u001b[1;32mIn[2], line 2\u001b[1;36m\u001b[0m\n\u001b[1;33m    y = [.5, 1]\u001b[0m\n\u001b[1;37m    ^\u001b[0m\n\u001b[1;31mIndentationError\u001b[0m\u001b[1;31m:\u001b[0m unexpected indent\n"
     ]
    }
   ],
   "source": [
    "X = np.c_[ .5, 1].T\n",
    " y = [.5, 1]\n",
    " test = np.c_[ 0, 2].T\n",
    " regr = linear_model.LinearRegression()\n",
    "\n",
    " import matplotlib.pyplot as plt\n",
    " plt.figure()\n",
    "\n",
    " np.random.seed(0)\n",
    " for _ in range(6):\n",
    "    this_X = .1 * np.random.normal(size=(2, 1)) + X\n",
    "    regr.fit(this_X, y)\n",
    "    plt.plot(test, regr.predict(test))\n",
    "    plt.scatter(this_X, y, s=3)\n",
    "LinearRegression"
   ]
  },
  {
   "cell_type": "code",
   "execution_count": null,
   "id": "20981dec",
   "metadata": {},
   "outputs": [],
   "source": []
  },
  {
   "cell_type": "code",
   "execution_count": null,
   "id": "3518b65f",
   "metadata": {},
   "outputs": [],
   "source": []
  }
 ],
 "metadata": {
  "kernelspec": {
   "display_name": "Python 3 (ipykernel)",
   "language": "python",
   "name": "python3"
  },
  "language_info": {
   "codemirror_mode": {
    "name": "ipython",
    "version": 3
   },
   "file_extension": ".py",
   "mimetype": "text/x-python",
   "name": "python",
   "nbconvert_exporter": "python",
   "pygments_lexer": "ipython3",
   "version": "3.8.10"
  }
 },
 "nbformat": 4,
 "nbformat_minor": 5
}
