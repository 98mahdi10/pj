{
 "cells": [
  {
   "cell_type": "code",
   "execution_count": 2,
   "id": "f07a5392",
   "metadata": {},
   "outputs": [
    {
     "ename": "IndentationError",
     "evalue": "unexpected indent (3517577608.py, line 3)",
     "output_type": "error",
     "traceback": [
      "\u001b[1;36m  Cell \u001b[1;32mIn[2], line 3\u001b[1;36m\u001b[0m\n\u001b[1;33m    reg = TweedieRegressor(power=1, alpha=0.5, link='log')\u001b[0m\n\u001b[1;37m    ^\u001b[0m\n\u001b[1;31mIndentationError\u001b[0m\u001b[1;31m:\u001b[0m unexpected indent\n"
     ]
    }
   ],
   "source": [
    "import numpy as np\n",
    "from sklearn.linear_model import TweedieRegressor\n",
    " reg = TweedieRegressor(power=1, alpha=0.5, link='log')\n",
    "reg.fit([[0, 0], [0, 1], [2, 2]], [0, 1, 2])\n",
    "TweedieRegressor(alpha=0.5, link='log', power=1)\n",
    " reg.coef_\n",
    "array([0.2463..., 0.4337...])\n",
    " reg.intercept_-0.7638..."
   ]
  },
  {
   "cell_type": "code",
   "execution_count": 3,
   "id": "b696ddcb",
   "metadata": {},
   "outputs": [
    {
     "ename": "ModuleNotFoundError",
     "evalue": "No module named 'matplotlib'",
     "output_type": "error",
     "traceback": [
      "\u001b[1;31m---------------------------------------------------------------------------\u001b[0m",
      "\u001b[1;31mModuleNotFoundError\u001b[0m                       Traceback (most recent call last)",
      "Cell \u001b[1;32mIn[3], line 1\u001b[0m\n\u001b[1;32m----> 1\u001b[0m \u001b[38;5;28;01mimport\u001b[39;00m \u001b[38;5;21;01mmatplotlib\u001b[39;00m\u001b[38;5;21;01m.\u001b[39;00m\u001b[38;5;21;01mpyplot\u001b[39;00m \u001b[38;5;28;01mas\u001b[39;00m \u001b[38;5;21;01mplt\u001b[39;00m\n\u001b[0;32m      2\u001b[0m \u001b[38;5;28;01mimport\u001b[39;00m \u001b[38;5;21;01mnumpy\u001b[39;00m \u001b[38;5;28;01mas\u001b[39;00m \u001b[38;5;21;01mnp\u001b[39;00m\n\u001b[0;32m      3\u001b[0m \u001b[38;5;28;01mimport\u001b[39;00m \u001b[38;5;21;01mpandas\u001b[39;00m \u001b[38;5;28;01mas\u001b[39;00m \u001b[38;5;21;01mpd\u001b[39;00m\n",
      "\u001b[1;31mModuleNotFoundError\u001b[0m: No module named 'matplotlib'"
     ]
    }
   ],
   "source": [
    "import matplotlib.pyplot as plt\n",
    "import numpy as np\n",
    "import pandas as pd\n",
    "from sklearn.datasets import fetch_openml\n",
    "\n",
    "df = fetch_openml(data_id=41214, as_frame=True, parser=\"pandas\").frame\n",
    "df\n",
    "df[\"Frequency\"] = df[\"ClaimNb\"] / df[\"Exposure\"]\n",
    "\n",
    "print(\n",
    "    \"Average Frequency = {}\".format(np.average(df[\"Frequency\"], weights=df[\"Exposure\"]))\n",
    ")\n",
    "\n",
    "print(\n",
    "    \"Fraction of exposure with zero claims = {0:.1%}\".format(\n",
    "        df.loc[df[\"ClaimNb\"] == 0, \"Exposure\"].sum() / df[\"Exposure\"].sum()\n",
    "    )\n",
    ")\n",
    "\n",
    "fig, (ax0, ax1, ax2) = plt.subplots(ncols=3, figsize=(16, 4))\n",
    "ax0.set_title(\"Number of claims\")\n",
    "_ = df[\"ClaimNb\"].hist(bins=30, log=True, ax=ax0)\n",
    "ax1.set_title(\"Exposure in years\")\n",
    "_ = df[\"Exposure\"].hist(bins=30, log=True, ax=ax1)\n",
    "ax2.set_title(\"Frequency (number of claims per year)\")\n",
    "_ = df[\"Frequency\"].hist(bins=30, log=True, ax=ax2)"
   ]
  },
  {
   "cell_type": "code",
   "execution_count": 4,
   "id": "0fae7d28",
   "metadata": {},
   "outputs": [
    {
     "ename": "NameError",
     "evalue": "name 'df' is not defined",
     "output_type": "error",
     "traceback": [
      "\u001b[1;31m---------------------------------------------------------------------------\u001b[0m",
      "\u001b[1;31mNameError\u001b[0m                                 Traceback (most recent call last)",
      "Cell \u001b[1;32mIn[4], line 5\u001b[0m\n\u001b[0;32m      2\u001b[0m \u001b[38;5;28;01mfrom\u001b[39;00m \u001b[38;5;21;01msklearn\u001b[39;00m\u001b[38;5;21;01m.\u001b[39;00m\u001b[38;5;21;01mmodel_selection\u001b[39;00m \u001b[38;5;28;01mimport\u001b[39;00m train_test_split\n\u001b[0;32m      3\u001b[0m \u001b[38;5;28;01mfrom\u001b[39;00m \u001b[38;5;21;01msklearn\u001b[39;00m\u001b[38;5;21;01m.\u001b[39;00m\u001b[38;5;21;01mpipeline\u001b[39;00m \u001b[38;5;28;01mimport\u001b[39;00m Pipeline\n\u001b[1;32m----> 5\u001b[0m df_train, df_test \u001b[38;5;241m=\u001b[39m train_test_split(\u001b[43mdf\u001b[49m, test_size\u001b[38;5;241m=\u001b[39m\u001b[38;5;241m0.33\u001b[39m, random_state\u001b[38;5;241m=\u001b[39m\u001b[38;5;241m0\u001b[39m)\n\u001b[0;32m      7\u001b[0m dummy \u001b[38;5;241m=\u001b[39m Pipeline(\n\u001b[0;32m      8\u001b[0m     [\n\u001b[0;32m      9\u001b[0m         (\u001b[38;5;124m\"\u001b[39m\u001b[38;5;124mpreprocessor\u001b[39m\u001b[38;5;124m\"\u001b[39m, linear_model_preprocessor),\n\u001b[0;32m     10\u001b[0m         (\u001b[38;5;124m\"\u001b[39m\u001b[38;5;124mregressor\u001b[39m\u001b[38;5;124m\"\u001b[39m, DummyRegressor(strategy\u001b[38;5;241m=\u001b[39m\u001b[38;5;124m\"\u001b[39m\u001b[38;5;124mmean\u001b[39m\u001b[38;5;124m\"\u001b[39m)),\n\u001b[0;32m     11\u001b[0m     ]\n\u001b[0;32m     12\u001b[0m )\u001b[38;5;241m.\u001b[39mfit(df_train, df_train[\u001b[38;5;124m\"\u001b[39m\u001b[38;5;124mFrequency\u001b[39m\u001b[38;5;124m\"\u001b[39m], regressor__sample_weight\u001b[38;5;241m=\u001b[39mdf_train[\u001b[38;5;124m\"\u001b[39m\u001b[38;5;124mExposure\u001b[39m\u001b[38;5;124m\"\u001b[39m])\n",
      "\u001b[1;31mNameError\u001b[0m: name 'df' is not defined"
     ]
    }
   ],
   "source": [
    "from sklearn.dummy import DummyRegressor\n",
    "from sklearn.model_selection import train_test_split\n",
    "from sklearn.pipeline import Pipeline\n",
    "\n",
    "df_train, df_test = train_test_split(df, test_size=0.33, random_state=0)\n",
    "\n",
    "dummy = Pipeline(\n",
    "    [\n",
    "        (\"preprocessor\", linear_model_preprocessor),\n",
    "        (\"regressor\", DummyRegressor(strategy=\"mean\")),\n",
    "    ]\n",
    ").fit(df_train, df_train[\"Frequency\"], regressor__sample_weight=df_train[\"Exposure\"])"
   ]
  },
  {
   "cell_type": "code",
   "execution_count": null,
   "id": "09d98a83",
   "metadata": {},
   "outputs": [],
   "source": []
  }
 ],
 "metadata": {
  "kernelspec": {
   "display_name": "Python 3 (ipykernel)",
   "language": "python",
   "name": "python3"
  },
  "language_info": {
   "codemirror_mode": {
    "name": "ipython",
    "version": 3
   },
   "file_extension": ".py",
   "mimetype": "text/x-python",
   "name": "python",
   "nbconvert_exporter": "python",
   "pygments_lexer": "ipython3",
   "version": "3.8.10"
  }
 },
 "nbformat": 4,
 "nbformat_minor": 5
}
