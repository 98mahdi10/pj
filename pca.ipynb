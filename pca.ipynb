{
 "cells": [
  {
   "cell_type": "code",
   "execution_count": 5,
   "id": "a348cd81",
   "metadata": {},
   "outputs": [
    {
     "ename": "SyntaxError",
     "evalue": "invalid syntax (2354200643.py, line 8)",
     "output_type": "error",
     "traceback": [
      "\u001b[1;36m  Cell \u001b[1;32mIn[5], line 8\u001b[1;36m\u001b[0m\n\u001b[1;33m    [0.9924... , 0.0075...]\u001b[0m\n\u001b[1;37m           ^\u001b[0m\n\u001b[1;31mSyntaxError\u001b[0m\u001b[1;31m:\u001b[0m invalid syntax\n"
     ]
    }
   ],
   "source": [
    " import numpy as np\n",
    " from sklearn.decomposition import PCA\n",
    " X = np.array([[-1, -1], [-2, -1], [-3, -2], [1, 1], [2, 1], [3, 2]])\n",
    " pca = PCA(n_components=2)\n",
    " pca.fit(X)\n",
    "PCA(n_components=2)\n",
    " print(pca.explained_variance_ratio_)\n",
    "[0.9924... , 0.0075...]\n",
    " print(pca.singular_values_)\n",
    "[6.30061..., 0.54980...]\n",
    " pca = PCA(n_components=2, svd_solver='full')\n",
    " pca.fit(X)\n",
    "PCA(n_components=2, svd_solver='full')\n",
    " print(pca.explained_variance_ratio_)\n",
    "[0.9924... 0.00755...]\n",
    " print(pca.singular_values_)\n",
    "[6.30061... 0.54980...]\n",
    " pca = PCA(n_components=1, svd_solver='arpack')\n",
    " pca.fit(X)\n",
    "PCA(n_components=1, svd_solver='arpack')\n",
    " print(pca.explained_variance_ratio_)\n",
    "[0.99244...]\n",
    " print(pca.singular_values_)\n",
    "[6.30061...]"
   ]
  },
  {
   "cell_type": "code",
   "execution_count": null,
   "id": "6a6a2e9c",
   "metadata": {},
   "outputs": [],
   "source": []
  },
  {
   "cell_type": "code",
   "execution_count": null,
   "id": "e2dca270",
   "metadata": {},
   "outputs": [],
   "source": []
  }
 ],
 "metadata": {
  "kernelspec": {
   "display_name": "Python 3 (ipykernel)",
   "language": "python",
   "name": "python3"
  },
  "language_info": {
   "codemirror_mode": {
    "name": "ipython",
    "version": 3
   },
   "file_extension": ".py",
   "mimetype": "text/x-python",
   "name": "python",
   "nbconvert_exporter": "python",
   "pygments_lexer": "ipython3",
   "version": "3.8.10"
  }
 },
 "nbformat": 4,
 "nbformat_minor": 5
}
